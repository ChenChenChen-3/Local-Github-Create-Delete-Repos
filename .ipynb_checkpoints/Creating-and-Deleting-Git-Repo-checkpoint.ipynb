{
 "cells": [
  {
   "cell_type": "markdown",
   "metadata": {},
   "source": [
    "<img src=\"http://imgur.com/1ZcRyrc.png\" style=\"float: left; margin: 15px; height: 130px\">\n",
    "\n",
    "# Local Lesson: Creating and Deleting a Git Repo\n",
    "**DSI-CC-7**"
   ]
  },
  {
   "cell_type": "markdown",
   "metadata": {},
   "source": [
    "## A. Creating a Repo on Personal Github\n",
    "1. Navigate to you personal github page: www.github.com\n",
    "2. In **Repository** tab click green **New** button\n",
    "3. Initialize with README\n"
   ]
  },
  {
   "cell_type": "markdown",
   "metadata": {},
   "source": [
    "<img src=\"./assets/Create_a_repo.png\" style=\"float: left; margin: 10px; height: 600px\">"
   ]
  },
  {
   "cell_type": "markdown",
   "metadata": {},
   "source": [
    "### last step in your browser:\n",
    "4. copy repo link\n",
    "\n",
    "### once created, go to your terminal/bash: \n",
    "5. Navigate to where you want to put the new repo \n",
    "6. clone down repo: `git clone < repo link > `\n",
    "\n",
    "<img src=\"./assets/terminal_gitcode_1.png\" style=\"float: left; margin: 10px; height: px\">"
   ]
  },
  {
   "cell_type": "markdown",
   "metadata": {},
   "source": [
    "7. `ls` to see a README.md inside\n",
    "8. Now you can work: \n",
    "    - put things inside: add folders, files\n",
    "    - edit the README.md\n",
    "    - open jupyter notebook and create new .ipynb\n",
    "9. Finished with edits?\n",
    "    - push changes to github.com repo:\n",
    "    - `git add .` or `git add specific_file`\n",
    "    - `git commit -m \"added new files to repo\"`\n",
    "    - `git push origin master`"
   ]
  },
  {
   "cell_type": "markdown",
   "metadata": {},
   "source": [
    "## B. Deleting a git repo on your computer\n",
    "If you try to delete a git repo by using `rm -r folder_name` you get an error: <br> `override r--r--r-- New_Repo ./git/objects/01/39ed5e058763a3733faef22561355c29ce1af0`\n",
    "This is a safety feature of git!"
   ]
  },
  {
   "cell_type": "markdown",
   "metadata": {},
   "source": [
    "### To remove a git repo you must take out the .git file first:\n",
    "1. Navigate into the folder you want to delete\n",
    "2. Remove the git tracker file: `rm -rf .git`\n",
    "3. Navigate up to containing folder: `cd ..`\n",
    "4. **Now** you can deleter the foler: `rm -r folder_name`\n",
    "<img src=\"./assets/terminal_delete_git.png\" style=\"float: left; margin: 10px; height: px\">"
   ]
  },
  {
   "cell_type": "code",
   "execution_count": null,
   "metadata": {},
   "outputs": [],
   "source": []
  }
 ],
 "metadata": {
  "kernelspec": {
   "display_name": "Python 3",
   "language": "python",
   "name": "python3"
  },
  "language_info": {
   "codemirror_mode": {
    "name": "ipython",
    "version": 3
   },
   "file_extension": ".py",
   "mimetype": "text/x-python",
   "name": "python",
   "nbconvert_exporter": "python",
   "pygments_lexer": "ipython3",
   "version": "3.7.1"
  }
 },
 "nbformat": 4,
 "nbformat_minor": 2
}
